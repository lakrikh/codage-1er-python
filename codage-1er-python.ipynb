{
 "cells": [
  {
   "cell_type": "code",
   "execution_count": 20,
   "id": "c3415e4c-c814-43ef-9617-f6f4e7cfe757",
   "metadata": {},
   "outputs": [
    {
     "name": "stdout",
     "output_type": "stream",
     "text": [
      "0\n"
     ]
    },
    {
     "data": {
      "text/plain": [
       "int"
      ]
     },
     "execution_count": 20,
     "metadata": {},
     "output_type": "execute_result"
    }
   ],
   "source": [
    "spam_amount = 0\n",
    "print (spam_amount)\n",
    "type(spam_amount)\n"
   ]
  },
  {
   "cell_type": "code",
   "execution_count": 18,
   "id": "e65ead10-e65d-4b89-811d-aca1c545245a",
   "metadata": {},
   "outputs": [
    {
     "name": "stdout",
     "output_type": "stream",
     "text": [
      "But I don't want Any spam !\n",
      "SpamSpamSpamSpam\n"
     ]
    }
   ],
   "source": [
    "spam_amount = spam_amount + 4\n",
    "if spam_amount > 0 :\n",
    "    print (\"But I don't want Any spam !\")\n",
    "    viking_song = \"Spam\" * spam_amount \n",
    "    print (viking_song)\n"
   ]
  },
  {
   "cell_type": "code",
   "execution_count": 16,
   "id": "0c206fec-0dbb-48b2-9df9-9b1ff3e68961",
   "metadata": {},
   "outputs": [
    {
     "data": {
      "text/plain": [
       "int"
      ]
     },
     "execution_count": 16,
     "metadata": {},
     "output_type": "execute_result"
    }
   ],
   "source": [
    "5\n",
    "type (5)"
   ]
  },
  {
   "cell_type": "code",
   "execution_count": 21,
   "id": "aa09c8b1-6e44-41ee-9c2d-38ef273614fb",
   "metadata": {},
   "outputs": [
    {
     "name": "stdout",
     "output_type": "stream",
     "text": [
      "2.5\n"
     ]
    }
   ],
   "source": [
    "print(5/2)"
   ]
  },
  {
   "cell_type": "code",
   "execution_count": 22,
   "id": "c52ed53d-7fbc-430f-8032-6b09df7e54b5",
   "metadata": {},
   "outputs": [
    {
     "name": "stdout",
     "output_type": "stream",
     "text": [
      "2\n",
      "4\n"
     ]
    }
   ],
   "source": [
    "print (5//2) #operator gives us a result that's rounded down to the next integer.\n",
    "print(8//2)"
   ]
  },
  {
   "cell_type": "code",
   "execution_count": 25,
   "id": "0023edc9-d202-44e5-aeab-82f03fcfabc2",
   "metadata": {},
   "outputs": [
    {
     "name": "stdout",
     "output_type": "stream",
     "text": [
      "height in metres =  26.655 ?\n"
     ]
    }
   ],
   "source": [
    "hat_height_cm = 25\n",
    "my_height_cm = 165.5 #how tall am I\n",
    "total_height_meters = hat_height_cm + my_height_cm /100\n",
    "print  (\"height in metres = \", total_height_meters, \"?\")\n"
   ]
  },
  {
   "cell_type": "code",
   "execution_count": 26,
   "id": "c8f3b5e0-1478-43c8-996f-bfc39d9f195a",
   "metadata": {},
   "outputs": [
    {
     "name": "stdout",
     "output_type": "stream",
     "text": [
      "1\n",
      "55\n"
     ]
    }
   ],
   "source": [
    "print(min(1,2,5,7,19,8))\n",
    "print(max(1,7,9,0,5,7,55,23))"
   ]
  },
  {
   "cell_type": "code",
   "execution_count": 27,
   "id": "4a1501c0-414b-48d8-8413-ddcf8bc240f8",
   "metadata": {},
   "outputs": [
    {
     "name": "stdout",
     "output_type": "stream",
     "text": [
      "32\n",
      "32\n"
     ]
    }
   ],
   "source": [
    "print(abs(32))\n",
    "print (abs(-32))"
   ]
  },
  {
   "cell_type": "code",
   "execution_count": 29,
   "id": "db006766-fdd6-4e09-b0bf-22f407c8e447",
   "metadata": {},
   "outputs": [
    {
     "name": "stdout",
     "output_type": "stream",
     "text": [
      "10.0\n",
      "3\n",
      "808\n"
     ]
    }
   ],
   "source": [
    "print(float(10)) # They can even be called on strings!\n",
    "print(int(3.33))\n",
    "print(int('807') + 1)\n"
   ]
  },
  {
   "cell_type": "code",
   "execution_count": null,
   "id": "d467e8c8-9de7-4fa1-9f0d-d9ef152092ef",
   "metadata": {},
   "outputs": [],
   "source": []
  },
  {
   "cell_type": "code",
   "execution_count": null,
   "id": "037b3c00-fab1-4ef3-8edd-c070e42c483a",
   "metadata": {},
   "outputs": [],
   "source": []
  },
  {
   "cell_type": "code",
   "execution_count": null,
   "id": "c75777ab-6fab-4db7-b12e-d2c15daae2ae",
   "metadata": {},
   "outputs": [],
   "source": []
  },
  {
   "cell_type": "code",
   "execution_count": null,
   "id": "8bf817fa-eedf-47c5-a652-ece6e0e3a143",
   "metadata": {},
   "outputs": [],
   "source": []
  }
 ],
 "metadata": {
  "kernelspec": {
   "display_name": "Python 3 (ipykernel)",
   "language": "python",
   "name": "python3"
  },
  "language_info": {
   "codemirror_mode": {
    "name": "ipython",
    "version": 3
   },
   "file_extension": ".py",
   "mimetype": "text/x-python",
   "name": "python",
   "nbconvert_exporter": "python",
   "pygments_lexer": "ipython3",
   "version": "3.12.4"
  }
 },
 "nbformat": 4,
 "nbformat_minor": 5
}
